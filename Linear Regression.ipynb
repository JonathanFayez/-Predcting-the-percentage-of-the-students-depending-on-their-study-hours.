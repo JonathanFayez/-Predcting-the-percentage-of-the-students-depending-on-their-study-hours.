{
 "cells": [
  {
   "cell_type": "markdown",
   "id": "ef0c93f0",
   "metadata": {},
   "source": [
    "## Predcting the percentage of the students depending on their study hours.\n"
   ]
  },
  {
   "cell_type": "code",
   "execution_count": 1,
   "id": "89401b22",
   "metadata": {},
   "outputs": [],
   "source": [
    "# importing the libraries\n",
    "import pandas as pd\n",
    "import numpy as np\n",
    "import matplotlib.pyplot as plt\n",
    "%matplotlib inline"
   ]
  },
  {
   "cell_type": "code",
   "execution_count": 2,
   "id": "2cecf9cf",
   "metadata": {},
   "outputs": [],
   "source": [
    "## Loading the dataset from a link\n",
    "link = \"http://bit.ly/w-data\"\n",
    "df= pd.read_csv(link)\n"
   ]
  },
  {
   "cell_type": "code",
   "execution_count": 3,
   "id": "9e7350f0",
   "metadata": {},
   "outputs": [
    {
     "data": {
      "text/html": [
       "<div>\n",
       "<style scoped>\n",
       "    .dataframe tbody tr th:only-of-type {\n",
       "        vertical-align: middle;\n",
       "    }\n",
       "\n",
       "    .dataframe tbody tr th {\n",
       "        vertical-align: top;\n",
       "    }\n",
       "\n",
       "    .dataframe thead th {\n",
       "        text-align: right;\n",
       "    }\n",
       "</style>\n",
       "<table border=\"1\" class=\"dataframe\">\n",
       "  <thead>\n",
       "    <tr style=\"text-align: right;\">\n",
       "      <th></th>\n",
       "      <th>Hours</th>\n",
       "      <th>Scores</th>\n",
       "    </tr>\n",
       "  </thead>\n",
       "  <tbody>\n",
       "    <tr>\n",
       "      <th>0</th>\n",
       "      <td>2.5</td>\n",
       "      <td>21</td>\n",
       "    </tr>\n",
       "    <tr>\n",
       "      <th>1</th>\n",
       "      <td>5.1</td>\n",
       "      <td>47</td>\n",
       "    </tr>\n",
       "    <tr>\n",
       "      <th>2</th>\n",
       "      <td>3.2</td>\n",
       "      <td>27</td>\n",
       "    </tr>\n",
       "    <tr>\n",
       "      <th>3</th>\n",
       "      <td>8.5</td>\n",
       "      <td>75</td>\n",
       "    </tr>\n",
       "    <tr>\n",
       "      <th>4</th>\n",
       "      <td>3.5</td>\n",
       "      <td>30</td>\n",
       "    </tr>\n",
       "  </tbody>\n",
       "</table>\n",
       "</div>"
      ],
      "text/plain": [
       "   Hours  Scores\n",
       "0    2.5      21\n",
       "1    5.1      47\n",
       "2    3.2      27\n",
       "3    8.5      75\n",
       "4    3.5      30"
      ]
     },
     "execution_count": 3,
     "metadata": {},
     "output_type": "execute_result"
    }
   ],
   "source": [
    "df.head()"
   ]
  },
  {
   "cell_type": "markdown",
   "id": "012cb6f8",
   "metadata": {},
   "source": [
    "by having a quick glance at the data, we notice that as the number of hours increase the scores increase"
   ]
  },
  {
   "cell_type": "code",
   "execution_count": 4,
   "id": "a33f6466",
   "metadata": {},
   "outputs": [
    {
     "data": {
      "image/png": "[encoded data removed]",
      "text/plain": [
       "<Figure size 432x288 with 1 Axes>"
      ]
     },
     "metadata": {
      "needs_background": "light"
     },
     "output_type": "display_data"
    }
   ],
   "source": [
    "##let's do some EDA(Exploratory Data Analysis) to help us make sure of the relation between the hours and the scores\n",
    "df.plot(x='Hours',y=\"Scores\",style=\".\")\n",
    "plt.xlabel(\"Hours studied by the students\")\n",
    "plt.ylabel(\"the Scores recieved by the students \")\n",
    "plt.show()"
   ]
  },
  {
   "cell_type": "markdown",
   "id": "1d128004",
   "metadata": {},
   "source": [
    "now we are sure that there is a positive correlation between the study hours and the score percentage "
   ]
  },
  {
   "cell_type": "code",
   "execution_count": 5,
   "id": "f8a6dcb8",
   "metadata": {},
   "outputs": [],
   "source": [
    "## dividing the data into attributes as X and labels as y\n",
    "X = df.iloc[:, :-1].values  \n",
    "y = df.iloc[:, 1].values  \n"
   ]
  },
  {
   "cell_type": "code",
   "execution_count": 6,
   "id": "cfecfc90",
   "metadata": {},
   "outputs": [],
   "source": [
    "from sklearn.model_selection import train_test_split  \n",
    "X_train, X_test, y_train, y_test = train_test_split(X, y, \n",
    "                            test_size=0.25, random_state=0) "
   ]
  },
  {
   "cell_type": "markdown",
   "id": "43d8a39f",
   "metadata": {},
   "source": [
    "after splitting the data, it's time to train our model"
   ]
  },
  {
   "cell_type": "code",
   "execution_count": 7,
   "id": "bc49560b",
   "metadata": {},
   "outputs": [
    {
     "data": {
      "text/plain": [
       "LinearRegression()"
      ]
     },
     "execution_count": 7,
     "metadata": {},
     "output_type": "execute_result"
    }
   ],
   "source": [
    "from sklearn.linear_model import LinearRegression\n",
    "reg= LinearRegression()\n",
    "reg.fit(X_train,y_train)\n"
   ]
  },
  {
   "cell_type": "code",
   "execution_count": 8,
   "id": "1f15e0a3",
   "metadata": {},
   "outputs": [
    {
     "data": {
      "image/png": "[encoded data removed]",
      "text/plain": [
       "<Figure size 432x288 with 1 Axes>"
      ]
     },
     "metadata": {
      "needs_background": "light"
     },
     "output_type": "display_data"
    }
   ],
   "source": [
    "## let's plot our regression line\n",
    "Line= reg.coef_*X+reg.intercept_\n",
    "## let's plot it on our test data\n",
    "plt.scatter(X,y)\n",
    "plt.plot(X,Line);\n",
    "plt.show()"
   ]
  },
  {
   "cell_type": "markdown",
   "id": "cd5ab914",
   "metadata": {},
   "source": [
    "## now let's predict on our testing set"
   ]
  },
  {
   "cell_type": "code",
   "execution_count": 9,
   "id": "6df65144",
   "metadata": {},
   "outputs": [
    {
     "name": "stdout",
     "output_type": "stream",
     "text": [
      "[[1.5]\n",
      " [3.2]\n",
      " [7.4]\n",
      " [2.5]\n",
      " [5.9]\n",
      " [3.8]\n",
      " [1.9]]\n"
     ]
    }
   ],
   "source": [
    "print(X_test)\n",
    "y_pred=reg.predict(X_test)\n"
   ]
  },
  {
   "cell_type": "code",
   "execution_count": 10,
   "id": "118b16d8",
   "metadata": {},
   "outputs": [
    {
     "name": "stdout",
     "output_type": "stream",
     "text": [
      "actual scores is [20 27 69 30 62 35 24]\n",
      "predicted scores is [16.84472176 33.74557494 75.50062397 26.7864001  60.58810646 39.71058194\n",
      " 20.8213931 ]\n"
     ]
    }
   ],
   "source": [
    "## let's compare the actual scores to our predicted ones\n",
    "print(\"actual scores is {}\".format(y_test))\n",
    "print(\"predicted scores is {}\".format(y_pred))"
   ]
  },
  {
   "cell_type": "code",
   "execution_count": 11,
   "id": "4d61c264",
   "metadata": {},
   "outputs": [
    {
     "data": {
      "text/html": [
       "<div>\n",
       "<style scoped>\n",
       "    .dataframe tbody tr th:only-of-type {\n",
       "        vertical-align: middle;\n",
       "    }\n",
       "\n",
       "    .dataframe tbody tr th {\n",
       "        vertical-align: top;\n",
       "    }\n",
       "\n",
       "    .dataframe thead th {\n",
       "        text-align: right;\n",
       "    }\n",
       "</style>\n",
       "<table border=\"1\" class=\"dataframe\">\n",
       "  <thead>\n",
       "    <tr style=\"text-align: right;\">\n",
       "      <th></th>\n",
       "      <th>Actual</th>\n",
       "      <th>Predicted</th>\n",
       "    </tr>\n",
       "  </thead>\n",
       "  <tbody>\n",
       "    <tr>\n",
       "      <th>0</th>\n",
       "      <td>20</td>\n",
       "      <td>16.844722</td>\n",
       "    </tr>\n",
       "    <tr>\n",
       "      <th>1</th>\n",
       "      <td>27</td>\n",
       "      <td>33.745575</td>\n",
       "    </tr>\n",
       "    <tr>\n",
       "      <th>2</th>\n",
       "      <td>69</td>\n",
       "      <td>75.500624</td>\n",
       "    </tr>\n",
       "    <tr>\n",
       "      <th>3</th>\n",
       "      <td>30</td>\n",
       "      <td>26.786400</td>\n",
       "    </tr>\n",
       "    <tr>\n",
       "      <th>4</th>\n",
       "      <td>62</td>\n",
       "      <td>60.588106</td>\n",
       "    </tr>\n",
       "    <tr>\n",
       "      <th>5</th>\n",
       "      <td>35</td>\n",
       "      <td>39.710582</td>\n",
       "    </tr>\n",
       "    <tr>\n",
       "      <th>6</th>\n",
       "      <td>24</td>\n",
       "      <td>20.821393</td>\n",
       "    </tr>\n",
       "  </tbody>\n",
       "</table>\n",
       "</div>"
      ],
      "text/plain": [
       "   Actual  Predicted\n",
       "0      20  16.844722\n",
       "1      27  33.745575\n",
       "2      69  75.500624\n",
       "3      30  26.786400\n",
       "4      62  60.588106\n",
       "5      35  39.710582\n",
       "6      24  20.821393"
      ]
     },
     "execution_count": 11,
     "metadata": {},
     "output_type": "execute_result"
    }
   ],
   "source": [
    "## let's add it to a data frame so it's a better looking and better understanded\n",
    "df = pd.DataFrame({'Actual': y_test, 'Predicted': y_pred})  \n",
    "df"
   ]
  },
  {
   "cell_type": "code",
   "execution_count": 12,
   "id": "be16ef0f",
   "metadata": {},
   "outputs": [
    {
     "name": "stdout",
     "output_type": "stream",
     "text": [
      "Predicted Score = [93.89272889]\n"
     ]
    }
   ],
   "source": [
    "## we can also test our model on our actual data\n",
    "hours = [[9.25]]\n",
    "own_pred=reg.predict(hours)\n",
    "print(\"Predicted Score = {}\".format(own_pred))\n",
    "\n"
   ]
  },
  {
   "cell_type": "markdown",
   "id": "d1ac8e1b",
   "metadata": {},
   "source": [
    "our model predicted a score of 93.9 if a student studied 9.25 hours "
   ]
  },
  {
   "cell_type": "markdown",
   "id": "c95c77bb",
   "metadata": {},
   "source": [
    "## the last step now is to evaluate our model,  Model Evaluation permits us to evaluate the performance of a model, compare different models, to choose the best one to use for a specific dataset\n"
   ]
  },
  {
   "cell_type": "markdown",
   "id": "d663c141",
   "metadata": {},
   "source": [
    "There are different techniques for Model Evaluation, which depend on the specific task we want to solve\n",
    "as we are now working with a regression task \n",
    "the most popular metrics are:\n",
    "\n",
    "1st: Mean Absolute Error: the average of the difference between the actual value and the predicted one. It measures how far the predictions are from the actual output. The lower the MAE, the better the model.\n",
    "\n",
    "2nd:Root Mean Squared Error\"the square root of Mean Squared Error (MSE). MSE calculates the average of the square of the difference between the actual values and the predicted ones.\n",
    "\n",
    "3rd: R2 score — the proportion of variance in Y that can be explained by X."
   ]
  },
  {
   "cell_type": "markdown",
   "id": "4657ae49",
   "metadata": {},
   "source": [
    "for this task I will use the Mean Absolute Error, which is also from sklearn"
   ]
  },
  {
   "cell_type": "code",
   "execution_count": 13,
   "id": "7c7a5aae",
   "metadata": {},
   "outputs": [
    {
     "name": "stdout",
     "output_type": "stream",
     "text": [
      "Mean Absolute Error :4.130879918502486\n"
     ]
    }
   ],
   "source": [
    "from sklearn.metrics import mean_absolute_error\n",
    "MAE=mean_absolute_error(y_test, y_pred)\n",
    "print(\"Mean Absolute Error :{}\".format(MAE))"
   ]
  },
  {
   "cell_type": "code",
   "execution_count": null,
   "id": "594830b0",
   "metadata": {},
   "outputs": [],
   "source": []
  }
 ],
 "metadata": {
  "kernelspec": {
   "display_name": "Python 3",
   "language": "python",
   "name": "python3"
  },
  "language_info": {
   "codemirror_mode": {
    "name": "ipython",
    "version": 3
   },
   "file_extension": ".py",
   "mimetype": "text/x-python",
   "name": "python",
   "nbconvert_exporter": "python",
   "pygments_lexer": "ipython3",
   "version": "3.8.8"
  }
 },
 "nbformat": 4,
 "nbformat_minor": 5
}
